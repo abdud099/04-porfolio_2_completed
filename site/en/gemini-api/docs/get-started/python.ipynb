{
  "cells": [
    {
      "cell_type": "markdown",
      "metadata": {
        "id": "Tce3stUlHN0L"
      },
      "source": [
        "##### Copyright 2024 Google LLC."
      ]
    },
    {
      "cell_type": "code",
      "execution_count": 38,
      "metadata": {
        "id": "tuOe1ymfHZPu"
      },
      "outputs": [],
      "source": [
        "%%capture --no-stderr\n",
        "%pip install -U langgraph langsmith langchain_google_genai"
      ]
    },
    {
      "cell_type": "code",
      "source": [
        "import os\n",
        "from google.colab import userdata\n",
        "\n",
        "os.environ[\"LANGCHAIN_API_KEY\"] = userdata.get('LANGCHAIN_API_KEY')\n",
        "os.environ[\"LANGCHAIN_TRACING_V2\"] = \"true\"\n",
        "os.environ[\"LANGCHAIN_PROJECT\"] = \"quickstart\"\n",
        "\n",
        "gemini_api_key = userdata.get('GEMINI_API_KEY')"
      ],
      "metadata": {
        "id": "doo3IJJGtGyS"
      },
      "execution_count": 40,
      "outputs": []
    },
    {
      "cell_type": "code",
      "source": [
        "from langchain_google_genai import ChatGoogleGenerativeAI\n",
        "\n",
        "llm = ChatGoogleGenerativeAI(\n",
        "    model=\"gemini-1.5-flash\",\n",
        "    max_retries=2,\n",
        "    api_key=gemini_api_key\n",
        ")\n",
        "\n",
        "llm.invoke(\"greet me\")"
      ],
      "metadata": {
        "id": "EuK_GQUgtQcR",
        "outputId": "d2ae3c37-32d6-42a3-b661-25b05f54ffb5",
        "colab": {
          "base_uri": "https://localhost:8080/"
        }
      },
      "execution_count": 41,
      "outputs": [
        {
          "output_type": "execute_result",
          "data": {
            "text/plain": [
              "AIMessage(content='Hello there!\\n', additional_kwargs={}, response_metadata={'prompt_feedback': {'block_reason': 0, 'safety_ratings': []}, 'finish_reason': 'STOP', 'safety_ratings': []}, id='run-c966faf1-e63c-4b36-a67e-c93d77948caf-0', usage_metadata={'input_tokens': 3, 'output_tokens': 4, 'total_tokens': 7, 'input_token_details': {'cache_read': 0}})"
            ]
          },
          "metadata": {},
          "execution_count": 41
        }
      ]
    },
    {
      "cell_type": "code",
      "source": [
        "from typing import Annotated\n",
        "\n",
        "from typing_extensions import TypedDict\n",
        "\n",
        "from langgraph.graph import StateGraph, START, END\n",
        "from langgraph.graph.message import add_messages\n",
        "\n",
        "class State(TypedDict):\n",
        "  messages: Annotated[list, add_messages]\n",
        "\n",
        "graph_builder = StateGraph(State)"
      ],
      "metadata": {
        "id": "lNSq79gJtWFB"
      },
      "execution_count": 4,
      "outputs": []
    },
    {
      "cell_type": "code",
      "source": [
        "def chatbot(state: State):\n",
        "    return {\"messages\": [llm.invoke(state[\"messages\"])]}\n",
        "\n",
        "graph_builder.add_node(\"chatbot\", chatbot)\n",
        "\n",
        "graph_builder.add_edge(START, \"chatbot\")\n",
        "\n",
        "graph_builder.add_edge(\"chatbot\", END)\n",
        "\n",
        "graph = graph_builder.compile()"
      ],
      "metadata": {
        "id": "Pm4VpiPtthEQ"
      },
      "execution_count": 5,
      "outputs": []
    },
    {
      "cell_type": "code",
      "source": [
        "from IPython.display import Image, display\n",
        "\n",
        "try:\n",
        "    display(Image(graph.get_graph().draw_mermaid_png()))\n",
        "except Exception:\n",
        "    pass"
      ],
      "metadata": {
        "id": "zG-HRTyXtroY",
        "outputId": "bcb545ad-86cb-49a5-f27c-029a9023d75b",
        "colab": {
          "base_uri": "https://localhost:8080/",
          "height": 251
        }
      },
      "execution_count": 6,
      "outputs": [
        {
          "output_type": "display_data",
          "data": {
            "image/png": "[encoded data removed]",
            "text/plain": [
              "<IPython.core.display.Image object>"
            ]
          },
          "metadata": {}
        }
      ]
    },
    {
      "cell_type": "code",
      "source": [
        "%%capture --no-stderr\n",
        "%pip install -U tavily-python langchain_community"
      ],
      "metadata": {
        "id": "BGo3ghm4zSlb"
      },
      "execution_count": null,
      "outputs": []
    },
    {
      "cell_type": "code",
      "source": [
        "def stream_graph_updates(user_input: str):\n",
        "    for event in graph.stream({\"messages\": [(\"user\", user_input)]}):\n",
        "        for value in event.values():\n",
        "            print(\"Assistant:\", value[\"messages\"][-1].content)\n",
        "\n",
        "\n",
        "while True:\n",
        "    try:\n",
        "        user_input = input(\"User: \")\n",
        "        if user_input.lower() in [\"quit\", \"exit\", \"q\"]:\n",
        "            print(\"Goodbye!\")\n",
        "            break\n",
        "\n",
        "        stream_graph_updates(user_input)\n",
        "    except:\n",
        "        user_input = \"What do you know about LangGraph?\"\n",
        "        print(\"User: \" + user_input)\n",
        "        stream_graph_updates(user_input)\n",
        "        break"
      ],
      "metadata": {
        "collapsed": true,
        "id": "cdj2px-DtxL4",
        "outputId": "c9dbc244-b905-4dfa-a9a9-c264ec17bf47",
        "colab": {
          "base_uri": "https://localhost:8080/"
        }
      },
      "execution_count": 35,
      "outputs": [
        {
          "output_type": "stream",
          "name": "stdout",
          "text": [
            "User: hi\n",
            "Assistant: Hi there! How can I help you today?\n",
            "\n",
            "User: What do you know about LangGraph?\n",
            "Assistant: LangGraph isn't a widely known or established, single, defined technology or project like, say, TensorFlow or Neo4j.  There's no single, definitive \"LangGraph\" out there.  The name likely refers to a concept or a project specific to a certain research group, company, or individual.\n",
            "\n",
            "However, based on the name, it's highly probable that LangGraph refers to a system or approach that combines **natural language processing (NLP)** with **graph databases** or **graph-based representations**.\n",
            "\n",
            "Here's what such a system might entail:\n",
            "\n",
            "* **NLP Component:** This part would handle tasks like text processing, tokenization, part-of-speech tagging, named entity recognition, sentiment analysis, and potentially more sophisticated NLP techniques like relation extraction or semantic role labeling.\n",
            "\n",
            "* **Graph Component:** This would involve representing the information extracted from the text as a graph.  Nodes could represent entities (people, places, organizations, concepts), and edges could represent relationships between them (e.g., \"is located in,\" \"works for,\" \"is a type of\").  The graph database could be a property graph, knowledge graph, or another suitable graph structure.\n",
            "\n",
            "* **Combined Functionality:** The combination would allow for knowledge representation and reasoning based on textual data.  For example, you could input a corpus of text, and LangGraph would:\n",
            "\n",
            "    * Extract entities and relationships.\n",
            "    * Build a knowledge graph representing the information.\n",
            "    * Answer questions about the information contained in the graph (e.g., \"Who works for Google?\").\n",
            "    * Perform knowledge discovery and reasoning tasks.\n",
            "\n",
            "\n",
            "In short, if you encountered \"LangGraph\" in a specific context (a research paper, a presentation, a company website), you'd need to refer to that context to understand its precise meaning.  The general idea, however, is the powerful synergy between NLP and graph technologies for knowledge extraction and reasoning.\n",
            "\n",
            "User: q\n",
            "Goodbye!\n"
          ]
        }
      ]
    }
  ],
  "metadata": {
    "colab": {
      "name": "python.ipynb",
      "toc_visible": true,
      "provenance": []
    },
    "google": {
      "image_path": "/static/site-assets/images/docs/logo-python.svg",
      "keywords": [
        "examples",
        "gemini",
        "beginner",
        "googleai",
        "quickstart",
        "python",
        "text",
        "chat",
        "vision",
        "embed"
      ]
    },
    "kernelspec": {
      "display_name": "Python 3",
      "name": "python3"
    }
  },
  "nbformat": 4,
  "nbformat_minor": 0
}